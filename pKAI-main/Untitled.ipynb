{
 "cells": [
  {
   "cell_type": "code",
   "execution_count": 18,
   "id": "b6e3bfb8",
   "metadata": {
    "scrolled": true
   },
   "outputs": [
    {
     "name": "stdout",
     "output_type": "stream",
     "text": [
      "A         2 GLU   3.42\n",
      "A         5 LYS  11.55\n",
      "A         7 GLU   3.01\n",
      "A         8 LYS  11.05\n",
      "A        28 GLU   2.81\n",
      "A        34 ASP   2.16\n",
      "A        38 TYR  14.72\n",
      "A        41 CYS  11.69\n",
      "A        42 LYS  10.22\n",
      "A        49 CYS   9.86\n",
      "A        50 ASP   0.24\n",
      "A        52 CYS   9.85\n",
      "A        56 LYS  10.82\n",
      "A        57 GLU   3.85\n",
      "A        58 LYS  10.87\n",
      "A        62 CYS   8.63\n",
      "A        65 CYS   9.50\n",
      "A        69 LYS   9.97\n",
      "A        70 TYR  13.49\n",
      "A        71 CYS  10.20\n",
      "A        74 LYS   9.95\n",
      "A        75 CYS  11.00\n",
      "A        77 LYS  10.26\n",
      "A        78 LYS   9.92\n",
      "A        82 ASP   2.47\n",
      "A        83 HIS   4.41\n",
      "A        84 LYS  10.34\n",
      "A        86 GLU  -1.46\n",
      "A        87 CYS   9.58\n",
      "A        88 LYS  10.88\n",
      "A        89 CYS  11.82\n",
      "A        91 LYS  10.19\n",
      "A        93 CYS   8.96\n",
      "A        94 LYS  10.12\n",
      "A        97 TYR  11.26\n",
      "A       100 ASP   2.93\n",
      "A       111 LYS  11.93\n",
      "A       114 ASP   2.95\n",
      "A       119 GLU   3.89\n",
      "A       121 GLU   3.90\n",
      "A       122 LYS  10.82\n",
      "A       124 TYR  12.61\n",
      "A       127 TYR  10.43\n",
      "A       128 ASP   3.50\n",
      "A       130 GLU   2.68\n",
      "A       135 LYS  10.58\n",
      "A       138 GLU   3.57\n",
      "A       139 ASP   3.64\n",
      "A       141 LYS  10.90\n",
      "A       142 GLU   4.26\n",
      "A       153 HIS   5.62\n",
      "A       157 GLU   3.79\n",
      "A       158 GLU   2.57\n",
      "A       161 ASP   3.50\n",
      "A       170 ASP   3.16\n",
      "A       173 GLU   4.00\n",
      "A       177 LYS  12.38\n",
      "A       180 CYS  12.69\n",
      "A       186 CYS  11.05\n",
      "A       189 GLU   3.22\n",
      "A       192 GLU   4.37\n",
      "A       198 TYR  14.32\n",
      "A       206 HIS   2.19\n",
      "A       208 CYS  10.84\n",
      "A       209 ASP   2.28\n",
      "A       212 CYS  11.95\n",
      "A       220 HIS   6.59\n",
      "A       228 ASP   3.77\n",
      "A       230 GLU   4.36\n",
      "A       233 GLU   4.02\n",
      "A       234 GLU   2.01\n",
      "A       238 CYS  11.01\n",
      "A       239 TYR  14.50\n",
      "A       241 ASP   1.00\n",
      "A       247 GLU   3.98\n",
      "A       248 GLU   3.20\n",
      "A       251 LYS  11.11\n",
      "A       255 ASP   2.76\n",
      "A       257 TYR  12.28\n",
      "A       258 CYS  10.06\n",
      "A       260 GLU   3.67\n",
      "A       261 CYS  10.20\n",
      "A       262 ASP   2.82\n",
      "A       263 CYS   8.88\n",
      "A       266 CYS  11.38\n",
      "A       270 ASP   2.13\n",
      "A       271 LYS  11.24\n",
      "A       272 ASP   2.81\n",
      "A       274 ASP   3.56\n",
      "A       279 ASP   3.32\n",
      "A       280 GLU   4.14\n",
      "A       284 LYS  11.35\n",
      "A       285 GLU   4.08\n",
      "A       288 GLU   3.26\n",
      "A       291 LYS  11.62\n",
      "A       292 LYS  10.83\n",
      "A       294 GLU   3.73\n",
      "A       295 GLU   2.97\n",
      "A       297 LYS  14.74\n",
      "A       299 HIS   5.91\n",
      "A       301 LYS  10.37\n",
      "A       303 GLU   4.14\n",
      "A       309 CYS  13.69\n",
      "A       318 GLU   4.05\n",
      "A       322 ASP   1.97\n",
      "A       326 TYR  13.38\n",
      "A       329 LYS  13.67\n",
      "A       332 ASP   2.83\n",
      "A       333 CYS  14.61\n",
      "A       336 ASP   1.87\n",
      "A       338 CYS  12.46\n",
      "A       345 GLU   4.08\n",
      "A       346 GLU   4.04\n",
      "A       350 TYR  11.83\n",
      "A       356 GLU   2.84\n",
      "A       358 TYR  15.08\n",
      "A       366 HIS   1.19\n",
      "A       375 LYS  14.06\n",
      "A       378 LYS  11.28\n",
      "A       382 HIS   6.57\n",
      "A       391 LYS   9.90\n",
      "A       398 ASP   2.84\n",
      "A       404 HIS   5.12\n",
      "A       407 GLU   3.51\n",
      "A       408 HIS   2.43\n",
      "A       412 GLU   4.30\n",
      "A       413 ASP   3.75\n",
      "A       419 GLU   4.40\n",
      "A       420 GLU   4.31\n",
      "A       421 CYS  11.47\n",
      "A       422 ASP   3.13\n"
     ]
    }
   ],
   "source": [
    "from pKAI.pKAI import pKAI\n",
    "\n",
    "pks = pKAI('C:\\\\Users\\\\dx\\\\Documents\\\\pKAI-main\\\\5ex0.pdb')\n",
    "\n",
    "pka_dict={}\n",
    "for i in pks:\n",
    "    if i[2] in pka_dict.keys():\n",
    "        pka_dict[i[2]].append(i)\n",
    "    else:\n",
    "        pka_dict[i[2]]=[i]"
   ]
  },
  {
   "cell_type": "code",
   "execution_count": 19,
   "id": "aee64f2e",
   "metadata": {},
   "outputs": [
    {
     "name": "stdout",
     "output_type": "stream",
     "text": [
      "[('A', 41, 'CYS', 11.69), ('A', 49, 'CYS', 9.86), ('A', 52, 'CYS', 9.85), ('A', 62, 'CYS', 8.63), ('A', 65, 'CYS', 9.5), ('A', 71, 'CYS', 10.2), ('A', 75, 'CYS', 11.0), ('A', 87, 'CYS', 9.58), ('A', 89, 'CYS', 11.82), ('A', 93, 'CYS', 8.96), ('A', 180, 'CYS', 12.69), ('A', 186, 'CYS', 11.05), ('A', 208, 'CYS', 10.84), ('A', 212, 'CYS', 11.95), ('A', 238, 'CYS', 11.01), ('A', 258, 'CYS', 10.06), ('A', 261, 'CYS', 10.2), ('A', 263, 'CYS', 8.88), ('A', 266, 'CYS', 11.38), ('A', 309, 'CYS', 13.69), ('A', 333, 'CYS', 14.61), ('A', 338, 'CYS', 12.46), ('A', 421, 'CYS', 11.47)]\n"
     ]
    }
   ],
   "source": [
    "print(pka_dict['CYS'])"
   ]
  },
  {
   "cell_type": "code",
   "execution_count": 20,
   "id": "5a0d8aa1",
   "metadata": {},
   "outputs": [
    {
     "name": "stdout",
     "output_type": "stream",
     "text": [
      "[('A', 5, 'LYS', 11.55), ('A', 8, 'LYS', 11.05), ('A', 42, 'LYS', 10.22), ('A', 56, 'LYS', 10.82), ('A', 58, 'LYS', 10.87), ('A', 69, 'LYS', 9.97), ('A', 74, 'LYS', 9.95), ('A', 77, 'LYS', 10.26), ('A', 78, 'LYS', 9.92), ('A', 84, 'LYS', 10.34), ('A', 88, 'LYS', 10.88), ('A', 91, 'LYS', 10.19), ('A', 94, 'LYS', 10.12), ('A', 111, 'LYS', 11.93), ('A', 122, 'LYS', 10.82), ('A', 135, 'LYS', 10.58), ('A', 141, 'LYS', 10.9), ('A', 177, 'LYS', 12.38), ('A', 251, 'LYS', 11.11), ('A', 271, 'LYS', 11.24), ('A', 284, 'LYS', 11.35), ('A', 291, 'LYS', 11.62), ('A', 292, 'LYS', 10.83), ('A', 297, 'LYS', 14.74), ('A', 301, 'LYS', 10.37), ('A', 329, 'LYS', 13.67), ('A', 375, 'LYS', 14.06), ('A', 378, 'LYS', 11.28), ('A', 391, 'LYS', 9.9)]\n"
     ]
    }
   ],
   "source": [
    "print(pka_dict['LYS'])"
   ]
  },
  {
   "cell_type": "code",
   "execution_count": 21,
   "id": "f9f04a70",
   "metadata": {},
   "outputs": [
    {
     "name": "stdout",
     "output_type": "stream",
     "text": [
      "[('A', 83, 'HIS', 4.41), ('A', 153, 'HIS', 5.62), ('A', 206, 'HIS', 2.19), ('A', 220, 'HIS', 6.59), ('A', 299, 'HIS', 5.91), ('A', 366, 'HIS', 1.19), ('A', 382, 'HIS', 6.57), ('A', 404, 'HIS', 5.12), ('A', 408, 'HIS', 2.43)]\n"
     ]
    }
   ],
   "source": [
    "print(pka_dict['HIS'])"
   ]
  },
  {
   "cell_type": "code",
   "execution_count": 22,
   "id": "5fc31ab1",
   "metadata": {},
   "outputs": [
    {
     "name": "stdout",
     "output_type": "stream",
     "text": [
      "[('A', 34, 'ASP', 2.16), ('A', 50, 'ASP', 0.24), ('A', 82, 'ASP', 2.47), ('A', 100, 'ASP', 2.93), ('A', 114, 'ASP', 2.95), ('A', 128, 'ASP', 3.5), ('A', 139, 'ASP', 3.64), ('A', 161, 'ASP', 3.5), ('A', 170, 'ASP', 3.16), ('A', 209, 'ASP', 2.28), ('A', 228, 'ASP', 3.77), ('A', 241, 'ASP', 1.0), ('A', 255, 'ASP', 2.76), ('A', 262, 'ASP', 2.82), ('A', 270, 'ASP', 2.13), ('A', 272, 'ASP', 2.81), ('A', 274, 'ASP', 3.56), ('A', 279, 'ASP', 3.32), ('A', 322, 'ASP', 1.97), ('A', 332, 'ASP', 2.83), ('A', 336, 'ASP', 1.87), ('A', 398, 'ASP', 2.84), ('A', 413, 'ASP', 3.75), ('A', 422, 'ASP', 3.13)]\n"
     ]
    }
   ],
   "source": [
    "print(pka_dict['ASP'])"
   ]
  },
  {
   "cell_type": "code",
   "execution_count": null,
   "id": "b6b3e1f2",
   "metadata": {},
   "outputs": [],
   "source": []
  }
 ],
 "metadata": {
  "kernelspec": {
   "display_name": "Python 3 (ipykernel)",
   "language": "python",
   "name": "python3"
  },
  "language_info": {
   "codemirror_mode": {
    "name": "ipython",
    "version": 3
   },
   "file_extension": ".py",
   "mimetype": "text/x-python",
   "name": "python",
   "nbconvert_exporter": "python",
   "pygments_lexer": "ipython3",
   "version": "3.10.9"
  }
 },
 "nbformat": 4,
 "nbformat_minor": 5
}
